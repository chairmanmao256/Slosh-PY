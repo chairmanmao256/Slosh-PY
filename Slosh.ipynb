{
 "cells": [
  {
   "cell_type": "code",
   "execution_count": 1,
   "metadata": {},
   "outputs": [],
   "source": [
    "import numpy as np\n",
    "import matplotlib.pyplot as plt\n",
    "\n",
    "from scipy.special import jv\n",
    "from scipy.optimize import fsolve"
   ]
  },
  {
   "cell_type": "markdown",
   "metadata": {},
   "source": [
    "## Contour line related\n",
    "Here we construct the contour line first. Then we scale and translate the coordinate according to the fill ratio of the tank."
   ]
  },
  {
   "cell_type": "code",
   "execution_count": 3,
   "metadata": {},
   "outputs": [],
   "source": [
    "z_min, z_max = 0.0, 1.0\n",
    "n_inner, n_outer = 2, 100\n",
    "\n",
    "def r_inner(z):\n",
    "    if type(z) == float:\n",
    "        return 0.0\n",
    "    elif type(z) == list:\n",
    "        return [0.0] * len(z)\n",
    "    elif type(z) == np.ndarray:\n",
    "        return np.zeros_like(z)\n",
    "    else:\n",
    "        print(\"Error type\")\n",
    "        return None\n",
    "\n",
    "def r_outer(z):\n",
    "    return np.sqrt(0.25 - (z-0.5)**2)\n",
    "\n",
    "out = np.full((max(n_inner, n_outer), 4), fill_value=np.nan)\n",
    "z_inner = np.linspace(z_min, z_max, n_inner)\n",
    "z_outer = np.linspace(z_min, z_max, n_outer)\n",
    "\n",
    "out[0: z_inner.shape[0], 0:2] = np.vstack((z_inner, r_inner(z_inner))).T\n",
    "out[0: z_outer.shape[0], 2:4] = np.vstack((z_outer, r_outer(z_outer))).T\n",
    "\n",
    "np.savetxt(\"test.txt\", out)"
   ]
  },
  {
   "cell_type": "code",
   "execution_count": 22,
   "metadata": {},
   "outputs": [],
   "source": [
    "from scipy.interpolate import interp1d\n",
    "import scipy.integrate as integrate\n",
    "import SloshFunc as sf\n",
    "import pandas as pd\n",
    "\n",
    "def read_dict(fname: str):\n",
    "    data_dict = {}\n",
    "    with open(fname, \"r\") as file:\n",
    "        for line in file:\n",
    "            key, val = line.split(\":\", 1)\n",
    "            key, val = key.strip(), val.strip()\n",
    "            if (\".\" in val) or (\"e\" in val):\n",
    "                data_dict[key] = float(val)\n",
    "            else:\n",
    "                data_dict[key] = int(val)\n",
    "\n",
    "    return data_dict\n",
    "\n",
    "class Tank:\n",
    "    def __init__(self, LFR: float, fname = \"./test.txt\", settings = \"./settings.txt\", delimiter = \" \"):\n",
    "        '''\n",
    "        The input z coordinate should be in ascending order.\n",
    "\n",
    "        In this init function, we read in the contour profile, get the interpolater and the boundarys.\n",
    "        '''\n",
    "        contours = np.loadtxt(fname, delimiter=delimiter)\n",
    "        self.z_ic_original, self.r_ic_original = contours[:, 0], contours[:, 1]\n",
    "        self.z_oc_original, self.r_oc_original = contours[:, 2], contours[:, 3]\n",
    "\n",
    "        # drop all nans\n",
    "        self.z_ic_original = self.z_ic_original[~np.isnan(self.z_ic_original)]\n",
    "        self.r_ic_original = self.r_ic_original[~np.isnan(self.r_ic_original)]\n",
    "        self.z_oc_original = self.z_oc_original[~np.isnan(self.z_oc_original)]\n",
    "        self.r_oc_original = self.r_oc_original[~np.isnan(self.r_oc_original)]\n",
    "\n",
    "        # get the interpolater\n",
    "        self.IC_original = interp1d(self.z_ic_original, self.r_ic_original)\n",
    "        self.OC_original = interp1d(self.z_oc_original, self.r_oc_original)\n",
    "\n",
    "        # get the boundary\n",
    "        self.bIC = np.array([np.min(self.r_ic_original), np.max(self.r_ic_original),\n",
    "                             np.min(self.z_ic_original), np.max(self.z_ic_original)])\n",
    "        \n",
    "        self.bOC = np.array([np.min(self.r_oc_original), np.max(self.r_oc_original),\n",
    "                             np.min(self.z_oc_original), np.max(self.z_oc_original)])\n",
    "        \n",
    "        # get the non-dimensional quantities\n",
    "        self.LFR = LFR\n",
    "        self.get_geometry(LFR)\n",
    "\n",
    "        # get the computational settings\n",
    "        self.settings = read_dict(settings)\n",
    "\n",
    "\n",
    "\n",
    "\n",
    "    def get_geometry(self, LFR: float):\n",
    "        '''\n",
    "        Here we scale the geometry according the fill ratio. The fill ratio is the level of the \n",
    "        surface / the entire height of the geometry\n",
    "        '''\n",
    "        r_ic_file = self.IC_original # inner contour, unscaled\n",
    "        r_oc_file = self.OC_original # outer contour, unscaled\n",
    "        b_ic_file = self.bIC\n",
    "        b_oc_file = self.bOC\n",
    "\n",
    "        # Here we do not scale the geometry based on the RFac and ZFac, which is originally done in the MATLAB code\n",
    "        RFac, ZFac = 1.0, 1.0\n",
    "        self.RFac, self.ZFac = RFac, ZFac\n",
    "        b_ens_scaled_origin = np.array([min(b_ic_file[0], b_oc_file[0]) * RFac, max(b_ic_file[1], b_oc_file[1]) * RFac,\n",
    "                                        max(b_ic_file[2], b_oc_file[2]) * ZFac, min(b_ic_file[3], b_oc_file[3]) * ZFac])\n",
    "        r_ic_scaled_origin = lambda z: r_ic_file(z/ZFac) * RFac\n",
    "        r_oc_scaled_origin = lambda z: r_oc_file(z/ZFac) * RFac\n",
    "\n",
    "        H_tank = LFR * (b_ens_scaled_origin[-1] - b_ens_scaled_origin[-2])\n",
    "        H_origin = H_tank + b_ens_scaled_origin[-2]\n",
    "\n",
    "        # perform integration to get the fluid volume and the gravity center\n",
    "        breaks = np.unique(np.concatenate((self.z_ic_original, self.z_oc_original))) * ZFac\n",
    "        breaks = np.clip(breaks, b_ens_scaled_origin[-2], H_origin)\n",
    "        limit = breaks.shape[0] * 5\n",
    "\n",
    "        fluid_volume = integrate.quad(lambda z: np.pi*((r_oc_scaled_origin(z))**2 - (r_ic_scaled_origin(z))**2), \n",
    "                                      b_ens_scaled_origin[-2], H_origin, points = breaks, limit = limit)[0]\n",
    "        z_CM = integrate.quad(lambda z: z * ((r_oc_scaled_origin(z))**2 - (r_ic_scaled_origin(z))**2), \n",
    "                              b_ens_scaled_origin[-2], H_origin, points = breaks, limit = limit)[0]\\\n",
    "              /integrate.quad(lambda z: ((r_oc_scaled_origin(z))**2 - (r_ic_scaled_origin(z))**2),\n",
    "                              b_ens_scaled_origin[-2], H_origin, points = breaks, limit = limit)[0]\n",
    "        \n",
    "        b_ens_scaled_CM = b_ens_scaled_origin - np.array([0.0, 0.0, z_CM, z_CM])\n",
    "        r_ic_scaled_CM = lambda z: r_ic_scaled_origin(z+z_CM)\n",
    "        r_oc_scaled_CM = lambda z: r_oc_scaled_origin(z+z_CM)\n",
    "\n",
    "        # fluid height with respect to the center of mass, measured in the mass-center coordinate\n",
    "        self.L = H_origin - z_CM\n",
    "\n",
    "        # scaling parameters:\n",
    "        self.a = r_oc_scaled_CM(self.L)\n",
    "        self.epsilon = r_ic_scaled_CM(self.L)\n",
    "        self.L_a = self.L / self.a\n",
    "\n",
    "        # the non-dimensional contours (the inputs of the contours are non-dimensional coordinates, the outputs\n",
    "        # are also non-dimensional)\n",
    "        self.R_ic_CM = lambda Z: r_ic_scaled_CM(Z * self.a) / self.a\n",
    "        self.R_oc_CM = lambda Z: r_oc_scaled_CM(Z * self.a) / self.a\n",
    "\n",
    "        # save other quantities\n",
    "        self.z_CM = z_CM\n",
    "        self.fluid_volume = fluid_volume\n",
    "        self.bens = b_ens_scaled_CM\n",
    "        self.intb = self.bens / self.a\n",
    "        self.H_tank = H_tank\n",
    "        self.H_origin = H_origin\n",
    " \n",
    "    def calculate(self):\n",
    "        self.A, self.B, self.c_k, self.lambda_k, self.Bzeros = \\\n",
    "                                    sf.core(self.settings[\"N\"], self.settings[\"M\"], \n",
    "                                    self.settings[\"nsteps\"], self.intb, self.epsilon,\n",
    "                                    self.L_a, self.R_ic_CM, self.R_oc_CM)\n",
    "\n",
    "    def compute_mechanical_analogies(self):\n",
    "        epsilon = self.epsilon\n",
    "        L_a = self.L_a\n",
    "        a = self.a\n",
    "        R_ic = self.R_ic_CM\n",
    "        R_oc = self.R_oc_CM\n",
    "        intb = self.intb * a # convert intb to DIMENSIONAL form\n",
    "        N = self.settings[\"N\"]\n",
    "        M = self.settings[\"M\"]\n",
    "        g = self.settings[\"g\"]\n",
    "        rho = self.settings[\"rho\"]\n",
    "        flvol = self.fluid_volume\n",
    "        H = self.H_tank\n",
    "        selm = self.settings[\"SpringModeSpinner\"]\n",
    "        lambda_k = self.lambda_k\n",
    "        c_k = self.c_k\n",
    "        Bzeros = self.Bzeros\n",
    "\n",
    "\n",
    "        # Derived parameters\n",
    "        B = np.zeros((N, N))\n",
    "        s_n = np.zeros(N)\n",
    "        phi_a = np.zeros(N)\n",
    "\n",
    "        # integration break points\n",
    "        breaks = (np.unique(np.concatenate((self.z_ic_original, self.z_oc_original))) * self.ZFac - self.z_CM) / self.a\n",
    "        breaks = np.clip(breaks, intb[2]/a, L_a)\n",
    "        limit = breaks.shape[0] * 5\n",
    "        \n",
    "        # calculate the derived parameters\n",
    "        for n in range(N):\n",
    "            integrand1 = lambda z: (z-intb[2]/a)*R_oc(z)*sf.phi(n+1,M,R_oc(z),z,Bzeros,L_a)\n",
    "            integrand2 = lambda z: (z-intb[2]/a)*R_ic(z)*sf.phi(n+1,M,R_ic(z),z,Bzeros,L_a)\n",
    "            s_n[n] = integrate.quad(integrand1, intb[2]/a, L_a, limit=limit, points=breaks)[0]\\\n",
    "                    -integrate.quad(integrand2, intb[2]/a, L_a, limit=limit, points=breaks)[0]\n",
    "            phi_a[n] = 0\n",
    "\n",
    "            for k in range(N):\n",
    "                phi_a[n] =  phi_a[n] + c_k[k,n]*sf.phi(k+1,M,R_oc(L_a),L_a,Bzeros,L_a)\n",
    "\n",
    "            for m in range(n, N):\n",
    "                B[n,m] = sf.Bint(n+1,m+1,M,Bzeros,epsilon)\n",
    "\n",
    "        # fill the lower-triangle of B\n",
    "        B = B + B.T - np.eye(N) * B\n",
    "\n",
    "        self.B_ma, self.s_n, self.phi_a = B, s_n, phi_a\n",
    "        \n",
    "        # get the derived pendulum parameters\n",
    "        K, omega_k, Vc, M_k, L_k, H_k, CM_k, fluid_mass, c_k, lambda_k, I_sort = \\\n",
    "            sf.derivedparams(rho, flvol, H, c_k, lambda_k, g, L_a*a, a, B, s_n, phi_a, intb, selm)\n",
    "\n",
    "        self.Km, self.omega_k, self.characteristic_velocity, self.M_k, self.L_k, self.H_k, self.CM_k, self.c_k, self.lambda_k, self.I_modesSorting = \\\n",
    "            K, omega_k, Vc, M_k, L_k, H_k, CM_k, c_k, lambda_k, I_sort\n",
    "        \n",
    "        self.K_k, self.H_k_spring = sf.pendulum2spring(M_k, L_k, g, H_k)\n",
    "\n",
    "    def report(self):\n",
    "        '''\n",
    "        Report the mechanical characteristics in pandas csv format\n",
    "        '''\n",
    "        selm = self.settings[\"SpringModeSpinner\"]\n",
    "        self.pendulum_table = pd.DataFrame(\n",
    "            {\n",
    "                \"Mass\": self.M_k[0:selm+1],\n",
    "                \"Length\": self.L_k[0:selm+1],\n",
    "                \"Height\": self.H_k[0:selm+1],\n",
    "                \"CM\": self.CM_k[0:selm+1]\n",
    "            },\n",
    "            index=[\"Fixed mass\"]+list(range(1, selm+1))\n",
    "        )\n",
    "\n",
    "        self.spring_table = pd.DataFrame(\n",
    "            {\n",
    "                \"Mass\": self.M_k[0:selm+1],\n",
    "                \"Height\": self.H_k_spring[0:selm+1],\n",
    "                \"K\": self.K_k[0:selm+1]\n",
    "            },\n",
    "            index=[\"Fixed mass\"]+list(range(1, selm+1))\n",
    "        )\n",
    "\n",
    "        self.freq_table = pd.DataFrame(\n",
    "            {\n",
    "                \"lambda\": self.lambda_k,\n",
    "                \"K\": self.Km,\n",
    "                \"Omega\": self.omega_k\n",
    "            }\n",
    "        ).transpose()\n",
    "\n",
    "        display(self.pendulum_table)\n",
    "        display(self.spring_table)\n",
    "        display(self.freq_table)\n",
    "\n",
    "\n"
   ]
  },
  {
   "cell_type": "code",
   "execution_count": 23,
   "metadata": {},
   "outputs": [
    {
     "name": "stderr",
     "output_type": "stream",
     "text": [
      "100%|██████████| 10/10 [00:02<00:00,  4.30it/s]\n"
     ]
    }
   ],
   "source": [
    "tank = Tank(LFR = 0.65, fname = \"RP1_Tank_SaturnV.txt\", delimiter=\",\")\n",
    "tank.calculate()"
   ]
  },
  {
   "cell_type": "code",
   "execution_count": 24,
   "metadata": {},
   "outputs": [
    {
     "name": "stderr",
     "output_type": "stream",
     "text": [
      "d:\\Research and Courses\\Graduate-II\\Orienspace-Intern\\Sloshing\\Code\\slosh_py\\SloshFunc.py:232: RuntimeWarning: divide by zero encountered in divide\n",
      "  K_k = M_k*g/L_k\n"
     ]
    }
   ],
   "source": [
    "tank.compute_mechanical_analogies()"
   ]
  },
  {
   "cell_type": "code",
   "execution_count": 25,
   "metadata": {},
   "outputs": [
    {
     "data": {
      "text/html": [
       "<div>\n",
       "<style scoped>\n",
       "    .dataframe tbody tr th:only-of-type {\n",
       "        vertical-align: middle;\n",
       "    }\n",
       "\n",
       "    .dataframe tbody tr th {\n",
       "        vertical-align: top;\n",
       "    }\n",
       "\n",
       "    .dataframe thead th {\n",
       "        text-align: right;\n",
       "    }\n",
       "</style>\n",
       "<table border=\"1\" class=\"dataframe\">\n",
       "  <thead>\n",
       "    <tr style=\"text-align: right;\">\n",
       "      <th></th>\n",
       "      <th>Mass</th>\n",
       "      <th>Length</th>\n",
       "      <th>Height</th>\n",
       "      <th>CM</th>\n",
       "    </tr>\n",
       "  </thead>\n",
       "  <tbody>\n",
       "    <tr>\n",
       "      <th>Fixed mass</th>\n",
       "      <td>347013.803406</td>\n",
       "      <td>0.000000</td>\n",
       "      <td>4.877075</td>\n",
       "      <td>0.000000</td>\n",
       "    </tr>\n",
       "    <tr>\n",
       "      <th>1</th>\n",
       "      <td>179106.195119</td>\n",
       "      <td>2.761719</td>\n",
       "      <td>5.907723</td>\n",
       "      <td>1.524046</td>\n",
       "    </tr>\n",
       "    <tr>\n",
       "      <th>2</th>\n",
       "      <td>5445.577755</td>\n",
       "      <td>0.943310</td>\n",
       "      <td>6.774268</td>\n",
       "      <td>0.388640</td>\n",
       "    </tr>\n",
       "    <tr>\n",
       "      <th>3</th>\n",
       "      <td>1298.832187</td>\n",
       "      <td>0.589152</td>\n",
       "      <td>7.115642</td>\n",
       "      <td>0.237551</td>\n",
       "    </tr>\n",
       "  </tbody>\n",
       "</table>\n",
       "</div>"
      ],
      "text/plain": [
       "                     Mass    Length    Height        CM\n",
       "Fixed mass  347013.803406  0.000000  4.877075  0.000000\n",
       "1           179106.195119  2.761719  5.907723  1.524046\n",
       "2             5445.577755  0.943310  6.774268  0.388640\n",
       "3             1298.832187  0.589152  7.115642  0.237551"
      ]
     },
     "metadata": {},
     "output_type": "display_data"
    },
    {
     "data": {
      "text/html": [
       "<div>\n",
       "<style scoped>\n",
       "    .dataframe tbody tr th:only-of-type {\n",
       "        vertical-align: middle;\n",
       "    }\n",
       "\n",
       "    .dataframe tbody tr th {\n",
       "        vertical-align: top;\n",
       "    }\n",
       "\n",
       "    .dataframe thead th {\n",
       "        text-align: right;\n",
       "    }\n",
       "</style>\n",
       "<table border=\"1\" class=\"dataframe\">\n",
       "  <thead>\n",
       "    <tr style=\"text-align: right;\">\n",
       "      <th></th>\n",
       "      <th>Mass</th>\n",
       "      <th>Height</th>\n",
       "      <th>K</th>\n",
       "    </tr>\n",
       "  </thead>\n",
       "  <tbody>\n",
       "    <tr>\n",
       "      <th>Fixed mass</th>\n",
       "      <td>347013.803406</td>\n",
       "      <td>4.877075</td>\n",
       "      <td>inf</td>\n",
       "    </tr>\n",
       "    <tr>\n",
       "      <th>1</th>\n",
       "      <td>179106.195119</td>\n",
       "      <td>3.146005</td>\n",
       "      <td>6.362095e+05</td>\n",
       "    </tr>\n",
       "    <tr>\n",
       "      <th>2</th>\n",
       "      <td>5445.577755</td>\n",
       "      <td>5.830958</td>\n",
       "      <td>5.663155e+04</td>\n",
       "    </tr>\n",
       "    <tr>\n",
       "      <th>3</th>\n",
       "      <td>1298.832187</td>\n",
       "      <td>6.526489</td>\n",
       "      <td>2.162690e+04</td>\n",
       "    </tr>\n",
       "  </tbody>\n",
       "</table>\n",
       "</div>"
      ],
      "text/plain": [
       "                     Mass    Height             K\n",
       "Fixed mass  347013.803406  4.877075           inf\n",
       "1           179106.195119  3.146005  6.362095e+05\n",
       "2             5445.577755  5.830958  5.663155e+04\n",
       "3             1298.832187  6.526489  2.162690e+04"
      ]
     },
     "metadata": {},
     "output_type": "display_data"
    },
    {
     "data": {
      "text/html": [
       "<div>\n",
       "<style scoped>\n",
       "    .dataframe tbody tr th:only-of-type {\n",
       "        vertical-align: middle;\n",
       "    }\n",
       "\n",
       "    .dataframe tbody tr th {\n",
       "        vertical-align: top;\n",
       "    }\n",
       "\n",
       "    .dataframe thead th {\n",
       "        text-align: right;\n",
       "    }\n",
       "</style>\n",
       "<table border=\"1\" class=\"dataframe\">\n",
       "  <thead>\n",
       "    <tr style=\"text-align: right;\">\n",
       "      <th></th>\n",
       "      <th>0</th>\n",
       "      <th>1</th>\n",
       "      <th>2</th>\n",
       "      <th>3</th>\n",
       "      <th>4</th>\n",
       "      <th>5</th>\n",
       "      <th>6</th>\n",
       "      <th>7</th>\n",
       "      <th>8</th>\n",
       "      <th>9</th>\n",
       "    </tr>\n",
       "  </thead>\n",
       "  <tbody>\n",
       "    <tr>\n",
       "      <th>lambda</th>\n",
       "      <td>1.821040</td>\n",
       "      <td>5.331439</td>\n",
       "      <td>8.536330</td>\n",
       "      <td>11.706072</td>\n",
       "      <td>1301.097440</td>\n",
       "      <td>14.863809</td>\n",
       "      <td>6001.758214</td>\n",
       "      <td>1.066463e+07</td>\n",
       "      <td>7.006104e+12</td>\n",
       "      <td>-5.656453e+13</td>\n",
       "    </tr>\n",
       "    <tr>\n",
       "      <th>K</th>\n",
       "      <td>1.229471</td>\n",
       "      <td>3.599509</td>\n",
       "      <td>5.763285</td>\n",
       "      <td>7.903329</td>\n",
       "      <td>878.433113</td>\n",
       "      <td>10.035269</td>\n",
       "      <td>4052.074034</td>\n",
       "      <td>7.200205e+06</td>\n",
       "      <td>4.730156e+12</td>\n",
       "      <td>-3.818942e+13</td>\n",
       "    </tr>\n",
       "    <tr>\n",
       "      <th>Omega</th>\n",
       "      <td>1.884711</td>\n",
       "      <td>3.224833</td>\n",
       "      <td>4.080568</td>\n",
       "      <td>4.778490</td>\n",
       "      <td>50.377889</td>\n",
       "      <td>5.384559</td>\n",
       "      <td>108.199262</td>\n",
       "      <td>4.560979e+03</td>\n",
       "      <td>3.696778e+06</td>\n",
       "      <td>1.050406e+07</td>\n",
       "    </tr>\n",
       "  </tbody>\n",
       "</table>\n",
       "</div>"
      ],
      "text/plain": [
       "               0         1         2          3            4          5  \\\n",
       "lambda  1.821040  5.331439  8.536330  11.706072  1301.097440  14.863809   \n",
       "K       1.229471  3.599509  5.763285   7.903329   878.433113  10.035269   \n",
       "Omega   1.884711  3.224833  4.080568   4.778490    50.377889   5.384559   \n",
       "\n",
       "                  6             7             8             9  \n",
       "lambda  6001.758214  1.066463e+07  7.006104e+12 -5.656453e+13  \n",
       "K       4052.074034  7.200205e+06  4.730156e+12 -3.818942e+13  \n",
       "Omega    108.199262  4.560979e+03  3.696778e+06  1.050406e+07  "
      ]
     },
     "metadata": {},
     "output_type": "display_data"
    }
   ],
   "source": [
    "tank.report()"
   ]
  },
  {
   "cell_type": "code",
   "execution_count": 14,
   "metadata": {},
   "outputs": [],
   "source": [
    "np.savetxt(\"./results/A.txt\", tank.A, fmt=\"%8.4f\")\n",
    "np.savetxt(\"./results/B.txt\", tank.B, fmt=\"%8.4f\")\n",
    "np.savetxt(\"./results/D.txt\", tank.lambda_k, fmt=\"%8.4f\")\n",
    "np.savetxt(\"./results/V.txt\", tank.c_k, fmt=\"%8.4f\")\n",
    "\n",
    "np.savetxt(\"./results/B_a.txt\", tank.B_ma, fmt=\"%8.4f\")\n",
    "np.savetxt(\"./results/s_n.txt\", tank.s_n, fmt=\"%8.4f\")\n",
    "np.savetxt(\"./results/phi_a.txt\", tank.phi_a, fmt=\"%8.4f\")"
   ]
  },
  {
   "cell_type": "code",
   "execution_count": 10,
   "metadata": {},
   "outputs": [
    {
     "data": {
      "text/plain": [
       "array([-4.62751522e+13,  5.57659603e+12,  8.48944686e+06,  1.66910812e+04,\n",
       "        1.04943965e+03,  1.85686271e+00,  5.44114432e+00,  1.50165204e+01,\n",
       "        8.66250857e+00,  1.18443449e+01])"
      ]
     },
     "execution_count": 10,
     "metadata": {},
     "output_type": "execute_result"
    }
   ],
   "source": [
    "np.real(tank.lambda_k)"
   ]
  },
  {
   "cell_type": "code",
   "execution_count": 12,
   "metadata": {},
   "outputs": [
    {
     "data": {
      "text/plain": [
       "(10,)"
      ]
     },
     "execution_count": 12,
     "metadata": {},
     "output_type": "execute_result"
    }
   ],
   "source": [
    "tank.s_n.shape"
   ]
  },
  {
   "cell_type": "code",
   "execution_count": 15,
   "metadata": {},
   "outputs": [
    {
     "name": "stdout",
     "output_type": "stream",
     "text": [
      "[[0 1 2]\n",
      " [3 4 5]\n",
      " [6 7 8]]\n",
      "[[-9 -8 -7]\n",
      " [-6 -5 -4]\n",
      " [-3 -2 -1]]\n"
     ]
    },
    {
     "data": {
      "text/plain": [
       "12"
      ]
     },
     "execution_count": 15,
     "metadata": {},
     "output_type": "execute_result"
    }
   ],
   "source": [
    "x = np.arange(9).reshape((3,3))\n",
    "y = np.arange(-9, 0).reshape((3,3))\n",
    "print(x)\n",
    "print(y)\n",
    "np.diag(x).sum()"
   ]
  },
  {
   "cell_type": "code",
   "execution_count": 19,
   "metadata": {},
   "outputs": [
    {
     "data": {
      "text/plain": [
       "array([1, 2, 3])"
      ]
     },
     "execution_count": 19,
     "metadata": {},
     "output_type": "execute_result"
    }
   ],
   "source": [
    "np.concatenate(([1], np.arange(2, 4)))"
   ]
  },
  {
   "cell_type": "code",
   "execution_count": 16,
   "metadata": {},
   "outputs": [
    {
     "data": {
      "text/plain": [
       "[<matplotlib.lines.Line2D at 0x19cf73a6710>]"
      ]
     },
     "execution_count": 16,
     "metadata": {},
     "output_type": "execute_result"
    },
    {
     "data": {
      "image/png": "[encoded data removed]",
      "text/plain": [
       "<Figure size 640x480 with 1 Axes>"
      ]
     },
     "metadata": {},
     "output_type": "display_data"
    }
   ],
   "source": [
    "z = np.linspace(0.0, 1.0, 51)\n",
    "plt.plot(z, tank.OC_original(z))"
   ]
  },
  {
   "cell_type": "markdown",
   "metadata": {},
   "source": [
    "## Bessel function module"
   ]
  },
  {
   "cell_type": "code",
   "execution_count": 55,
   "metadata": {},
   "outputs": [],
   "source": [
    "def dBesselj(x, n):\n",
    "    return (jv(n-1, x) - jv(n+1, x)) / 2.0\n",
    "\n",
    "def dBesselzero(N: int):\n",
    "    Bzeros = []\n",
    "    order = 1\n",
    "\n",
    "    while order <= N:\n",
    "\n",
    "        if order == 1:\n",
    "            stepB = 1.8\n",
    "        else:\n",
    "            stepB = Bzeros[-1] + np.pi\n",
    "\n",
    "        Bzero = fsolve(dBesselj, stepB, args = (1))[0]\n",
    "\n",
    "        if order == 1:\n",
    "            Bzeros.append(Bzero)\n",
    "        else: # we have to check if there's duplicated root\n",
    "            mindiff = np.max(np.abs(np.array(Bzeros) - Bzero))\n",
    "            if mindiff < 1e-5 * max(Bzeros):\n",
    "                pass\n",
    "            else:\n",
    "                Bzeros.append(Bzero)\n",
    "        \n",
    "        order = len(Bzeros) + 1\n",
    "\n",
    "    # sort the Bzeros array in ascending order\n",
    "    Bzeros = np.array(Bzeros)\n",
    "\n",
    "    return np.sort(Bzeros)\n"
   ]
  },
  {
   "cell_type": "code",
   "execution_count": 56,
   "metadata": {},
   "outputs": [],
   "source": [
    "Bzeros = dBesselzero(10)"
   ]
  },
  {
   "cell_type": "markdown",
   "metadata": {},
   "source": [
    "## The integral related to the shape"
   ]
  },
  {
   "cell_type": "code",
   "execution_count": 123,
   "metadata": {},
   "outputs": [],
   "source": [
    "eps = 1e-10\n",
    "\n",
    "def isinside(r, z, r_ic, r_oc):\n",
    "    return (r >= r_ic(z)) * (r <= r_oc(z))\n",
    "\n",
    "\n",
    "def Aint(r,z,m,n,M,Bzeros,L,r_ic, r_oc):\n",
    "    '''\n",
    "    We only get the integrand for a_mn here. \n",
    "    '''\n",
    "\n",
    "    r = np.clip(r, eps, np.inf)\n",
    "\n",
    "    if m > M:\n",
    "        jm = Bzeros[m-M-1]\n",
    "    \n",
    "    if n > M:\n",
    "        jn = Bzeros[n-M-1]\n",
    "\n",
    "    if m <= M and n <= M :\n",
    "        I   = (np.abs((2*m-1)*(2*n-1) + 1)* r**(2*n+2*m-4))*r\n",
    "    elif m <= M and n > M:    \n",
    "        I   = ((2*m-1)*r**(2*m-2)*jn*dBesselj(jn*r, 1)*np.exp(jn*(z-L)) +\\\n",
    "                r**(2*m-3)*jv(1, jn*r)*np.exp(jn*(z-L)))*r\n",
    "    elif m > M and n > M:\n",
    "        I   = (r*jn*jm*dBesselj(jn*r, 1)*dBesselj(jm*r,1) + \\\n",
    "               r**(-1)* jv(1,jn*r)*jv(1,jm*r) + \\\n",
    "               r*jn*jm*jv(1,jn*r)*jv(1, jm*r))*\\\n",
    "               np.exp((jn + jm)*(z-L))\n",
    "\n",
    "    return I * isinside(r, z, r_ic, r_oc)\n",
    "\n",
    "def Bint(m,n,M,Bzeros,r_cm):\n",
    "    '''\n",
    "\n",
    "    '''\n",
    "    if m > M:\n",
    "        jm = Bzeros[m-M-1]\n",
    "    \n",
    "    if n > M:\n",
    "        jn = Bzeros[n-M-1]\n",
    "\n",
    "    if n <= M and m <= M:\n",
    "        bmn = (1 - r_cm**(2*n+2*m))/(2*n+2*m)\n",
    "    elif n > M and m > M and m != n:\n",
    "        bmn = (jm*r_cm*jv(1,jn*r_cm)*dBesselj(jm*r_cm,1) -\\\n",
    "            jn*r_cm*jv(1,jm*r_cm)*dBesselj(jn*r_cm,1))/\\\n",
    "            (jm**2 - jn**2)\n",
    "    elif n > M and m > M and m == n:\n",
    "        bmn = ((jn**2-1)*jv(1,jn)**2 -\\\n",
    "            (jn*r_cm*dBesselj(jn*r_cm,1))**2 -\\\n",
    "            (jn**2*r_cm**2-1)*jv(1,jn*r_cm)**2)/\\\n",
    "            (2*jn**2)\n",
    "    elif n > M and m == 1:\n",
    "        bmn = 1/jn**3 * (jn*jv(1,jn) -\\\n",
    "            jn*r_cm*jv(1,jn*r_cm) +\\\n",
    "            jn**2*r_cm**2*dBesselj(jn*r_cm, 1))\n",
    "        \n",
    "    elif n > M and m <= M:\n",
    "        bmn = 1/jn**2*((2*m-1)*jv(1,jn) -\\\n",
    "            r_cm**(2*m-1)*abs((2*m-1)*jv(1,jn*r_cm) -\\\n",
    "            jn*r_cm*dBesselj(jn*r_cm, 1)) - \\\n",
    "            4*m*(m-1)*Bint(m-1,n,M,Bzeros,r_cm))\n",
    "\n",
    "    return bmn\n",
    "\n",
    "\n",
    "def simp2D(func,a,b,c,d,NX,NY):\n",
    "    NX = int(2*np.ceil(NX/2))\n",
    "    NY = int(2*np.ceil(NY/2))\n",
    "\n",
    "    hx = (b-a)/NX\n",
    "    hy = (d-c)/NY\n",
    "\n",
    "    xg = np.linspace(a, b, NX+1)\n",
    "    yg = np.linspace(c, d, NY+1)\n",
    "    xxg, yyg = np.meshgrid(xg, yg)\n",
    "\n",
    "    U = func(xxg, yyg).T\n",
    "\n",
    "    s1 = U[0,0] + U[0,NY] + U[NX,0] + U[NX,NY]\n",
    "\n",
    "    ixo = slice(1,NX,2)\n",
    "    ixe = slice(2,NX-1,2)\n",
    "    iyo = slice(1,NY,2)\n",
    "    iye = slice(2,NY-1,2)\n",
    "\n",
    "    s2 = 2.0 * (np.sum(U[0, iye]) + np.sum(U[NX, iye]) + np.sum(U[ixe, 0]) + np.sum(U[ixe, NY]))\n",
    "    s3 = 4.0 * (np.sum(U[0, iyo]) + np.sum(U[NX, iyo]) + np.sum(U[ixo, 0]) + np.sum(U[ixo, NY]))\n",
    "\n",
    "    s4 = 16.0 * np.sum(U[ixo, iyo]) + 4.0 * np.sum(U[ixe, iye])\n",
    "    s5 = 8.0 * np.sum(U[ixe, iyo]) + 8.0 * np.sum(U[ixo, iye])\n",
    "\n",
    "    return (s1+s2+s3+s4+s5)*hx*hy/9.0"
   ]
  },
  {
   "cell_type": "code",
   "execution_count": 119,
   "metadata": {},
   "outputs": [],
   "source": [
    "def simp2D_test(func,a,b,c,d,NX,NY):\n",
    "    NX = int(2*np.ceil(NX/2))\n",
    "    NY = int(2*np.ceil(NY/2))\n",
    "\n",
    "    hx = (b-a)/NX\n",
    "    hy = (d-c)/NY\n",
    "\n",
    "    xg = np.linspace(a, b, NX+1)\n",
    "    yg = np.linspace(c, d, NY+1)\n",
    "    xxg, yyg = np.meshgrid(xg, yg)\n",
    "\n",
    "    U = func(xxg, yyg).T\n",
    "\n",
    "    s1 = U[0,0] + U[0,NY] + U[NX,0] + U[NX,NY]\n",
    "    print(s1)\n",
    "\n",
    "    ixo = slice(1,NX,2)\n",
    "    ixe = slice(2,NX-1,2)\n",
    "    iyo = slice(1,NY,2)\n",
    "    iye = slice(2,NY-1,2)\n",
    "\n",
    "    s2 = 2.0 * (np.sum(U[0, iye]) + np.sum(U[NX, iye]) + np.sum(U[ixe, 0]) + np.sum(U[ixe, NY]))\n",
    "    s3 = 4.0 * (np.sum(U[0, iyo]) + np.sum(U[NX, iyo]) + np.sum(U[ixo, 0]) + np.sum(U[ixo, NY]))\n",
    "\n",
    "    s4 = 16.0 * np.sum(U[ixo, iyo]) + 4.0 * np.sum(U[ixe, iye])\n",
    "    s5 = 8.0 * np.sum(U[ixe, iyo]) + 8.0 * np.sum(U[ixo, iye])\n",
    "\n",
    "    return (s1+s2+s3+s4+s5)*hx*hy/9.0, U, xxg, yyg"
   ]
  },
  {
   "cell_type": "code",
   "execution_count": 73,
   "metadata": {},
   "outputs": [
    {
     "data": {
      "text/plain": [
       "0.540940908068139"
      ]
     },
     "execution_count": 73,
     "metadata": {},
     "output_type": "execute_result"
    }
   ],
   "source": [
    "tank.L_a"
   ]
  },
  {
   "cell_type": "code",
   "execution_count": 112,
   "metadata": {},
   "outputs": [
    {
     "data": {
      "text/plain": [
       "0.09923126682352296"
      ]
     },
     "execution_count": 112,
     "metadata": {},
     "output_type": "execute_result"
    }
   ],
   "source": [
    "simp2D(lambda r,z: Aint(r, z, 4, 6, 5, Bzeros, tank.L_a, tank.R_ic_CM, tank.R_oc_CM),\n",
    "       tank.intb[0], tank.intb[1], tank.intb[-2], tank.L_a, 200, 200)"
   ]
  },
  {
   "cell_type": "code",
   "execution_count": 120,
   "metadata": {},
   "outputs": [
    {
     "name": "stdout",
     "output_type": "stream",
     "text": [
      "1.0000000000000001e-49\n"
     ]
    }
   ],
   "source": [
    "integral, U, xxg, yyg = simp2D_test(lambda r,z: Aint(r, z, 2, 2, 5, Bzeros, tank.L_a, tank.R_ic_CM, tank.R_oc_CM),\n",
    "                                    tank.intb[0], tank.intb[1], tank.intb[-2], tank.L_a, 200, 200)"
   ]
  },
  {
   "cell_type": "code",
   "execution_count": 122,
   "metadata": {},
   "outputs": [
    {
     "data": {
      "text/plain": [
       "1.6957203766555962"
      ]
     },
     "execution_count": 122,
     "metadata": {},
     "output_type": "execute_result"
    }
   ],
   "source": [
    "integral"
   ]
  },
  {
   "cell_type": "code",
   "execution_count": 121,
   "metadata": {},
   "outputs": [],
   "source": [
    "np.savetxt(\"U.txt\", U, fmt=\"%12.4e\")"
   ]
  },
  {
   "cell_type": "markdown",
   "metadata": {},
   "source": [
    "## Core computation functions"
   ]
  },
  {
   "cell_type": "code",
   "execution_count": 129,
   "metadata": {},
   "outputs": [],
   "source": [
    "from tqdm import tqdm\n",
    "from scipy.linalg import eig\n",
    "\n",
    "def core(N, M, nsteps, bens, e, L, r_ic, r_oc):\n",
    "    r_min, r_max, z_min = bens[0], bens[1], bens[2]\n",
    "\n",
    "    Bzeros = dBesselzero(N)\n",
    "\n",
    "    A = np.zeros((N, N))\n",
    "    B = np.zeros((N, N))\n",
    "\n",
    "    for m in tqdm(range(1, N+1)):\n",
    "        for n in range(m, N+1):\n",
    "            A[m-1, n-1] = simp2D(lambda r,z: Aint(r,z,m,n,M,Bzeros,L,r_ic,r_oc),\n",
    "                                 r_min,r_max,z_min,L,nsteps,nsteps)\n",
    "            B[m-1, n-1] = Bint(m,n,M,Bzeros,e)\n",
    "\n",
    "    A = (A + A.T) - A * np.eye(N)\n",
    "    B = (B + B.T) - B * np.eye(N)\n",
    "\n",
    "    lambda_k, V = eig(A, B)\n",
    "\n",
    "    return A, B, V, lambda_k, Bzeros"
   ]
  },
  {
   "cell_type": "code",
   "execution_count": 125,
   "metadata": {},
   "outputs": [
    {
     "name": "stderr",
     "output_type": "stream",
     "text": [
      "100%|██████████| 10/10 [00:02<00:00,  4.12it/s]\n"
     ]
    }
   ],
   "source": [
    "A, B = core(10, 5, 200, tank.intb, tank.epsilon, tank.L_a, tank.R_ic_CM, tank.R_oc_CM)"
   ]
  },
  {
   "cell_type": "code",
   "execution_count": 126,
   "metadata": {},
   "outputs": [],
   "source": [
    "np.savetxt(\"A.txt\", A, fmt=\"%8.4f\")\n",
    "np.savetxt(\"B.txt\", B, fmt=\"%8.4f\")"
   ]
  },
  {
   "cell_type": "code",
   "execution_count": 128,
   "metadata": {},
   "outputs": [],
   "source": [
    "\n",
    "\n",
    "D, V = eig(A, B) # returning right egien vectors, each column is a vector, no normalization is performed\n",
    "np.savetxt(\"D.txt\", D, fmt=\"%8.4f\")\n",
    "np.savetxt(\"V.txt\", V, fmt=\"%8.4f\")"
   ]
  },
  {
   "cell_type": "markdown",
   "metadata": {},
   "source": [
    "## Mechanical Analogy"
   ]
  },
  {
   "cell_type": "code",
   "execution_count": null,
   "metadata": {},
   "outputs": [],
   "source": []
  }
 ],
 "metadata": {
  "kernelspec": {
   "display_name": "PyTorch-env",
   "language": "python",
   "name": "python3"
  },
  "language_info": {
   "codemirror_mode": {
    "name": "ipython",
    "version": 3
   },
   "file_extension": ".py",
   "mimetype": "text/x-python",
   "name": "python",
   "nbconvert_exporter": "python",
   "pygments_lexer": "ipython3",
   "version": "3.11.8"
  }
 },
 "nbformat": 4,
 "nbformat_minor": 2
}
